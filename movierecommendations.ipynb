{
  "nbformat": 4,
  "nbformat_minor": 0,
  "metadata": {
    "colab": {
      "provenance": [],
      "mount_file_id": "1ZeyhzFsc9L-56S6lL61kWQbq4N9bn0GV",
      "authorship_tag": "ABX9TyNai2jrowleI1kgEotTyTbA",
      "include_colab_link": true
    },
    "kernelspec": {
      "name": "python3",
      "display_name": "Python 3"
    },
    "language_info": {
      "name": "python"
    }
  },
  "cells": [
    {
      "cell_type": "markdown",
      "metadata": {
        "id": "view-in-github",
        "colab_type": "text"
      },
      "source": [
        "<a href=\"https://colab.research.google.com/github/lakshmi-durga05/bharatintern-task2-movierecommendations/blob/main/movierecommendations.ipynb\" target=\"_parent\"><img src=\"https://colab.research.google.com/assets/colab-badge.svg\" alt=\"Open In Colab\"/></a>"
      ]
    },
    {
      "cell_type": "code",
      "execution_count": null,
      "metadata": {
        "colab": {
          "base_uri": "https://localhost:8080/"
        },
        "id": "MG2gDew5N8SU",
        "outputId": "dbc38237-cf3c-489e-b8e6-c75c549caa4e"
      },
      "outputs": [
        {
          "output_type": "stream",
          "name": "stdout",
          "text": [
            "Recommended Movies for '10ml Love':\n",
            "1. N.H 10 ((2015)), Similarity Score: 0.23575586003607304\n",
            "2. Sui Dhaaga ((2018)), Similarity Score: 0.23047633737104783\n",
            "3. Anaam (nan), Similarity Score: 0.22812235911840104\n",
            "4. Kaalakaandi ((2018)), Similarity Score: 0.22774626020857708\n",
            "5. Doordarshan ((2020)), Similarity Score: 0.22766203129603305\n"
          ]
        }
      ],
      "source": [
        "import pandas as pd\n",
        "from sklearn.feature_extraction.text import TfidfVectorizer\n",
        "from sklearn.metrics.pairwise import linear_kernel\n",
        "\n",
        "# Load dataset with specified encoding\n",
        "movies_data = pd.read_csv('/content/drive/MyDrive/bharatintern/IMDb Movies India.csv', encoding='latin-1')  # Assuming you have a IMDb Movies India.csv file\n",
        "\n",
        "# Combine relevant attributes into a single column\n",
        "movies_data['features'] = movies_data['Name'] + ' ' + movies_data['Director'] + ' ' + movies_data['Actor 1'] + ' ' + movies_data['Actor 2'] + ' ' + movies_data['Actor 3']\n",
        "\n",
        "# Fill missing values with an empty string\n",
        "movies_data['features'] = movies_data['features'].fillna('')\n",
        "\n",
        "# Initialize TfidfVectorizer\n",
        "tfidf_vectorizer = TfidfVectorizer(stop_words='english')\n",
        "\n",
        "# Fit and transform the features\n",
        "tfidf_matrix = tfidf_vectorizer.fit_transform(movies_data['features'])\n",
        "\n",
        "# Compute the cosine similarity matrix\n",
        "cosine_sim = linear_kernel(tfidf_matrix, tfidf_matrix)\n",
        "\n",
        "# Function to recommend similar movies\n",
        "def recommend_movies(movie_title, n=5):\n",
        "    try:\n",
        "        # Get the index of the movie that matches the title\n",
        "        idx = movies_data[movies_data['Name'].str.lower() == movie_title.lower()].index[0]\n",
        "    except IndexError:\n",
        "        print(f\"Movie '{movie_title}' not found in the dataset.\")\n",
        "        return\n",
        "\n",
        "    # Get the pairwise similarity scores of all movies with that movie\n",
        "    sim_scores = list(enumerate(cosine_sim[idx]))\n",
        "\n",
        "    # Sort the movies based on the similarity scores\n",
        "    sim_scores = sorted(sim_scores, key=lambda x: x[1], reverse=True)\n",
        "\n",
        "    # Filter out the input movie\n",
        "    sim_scores = [(i, score) for i, score in sim_scores if movies_data.iloc[i]['Name'].lower() != movie_title.lower()]\n",
        "\n",
        "    # Get the scores of the n most similar movies\n",
        "    sim_scores = sim_scores[:n]\n",
        "\n",
        "    # Get the movie indices\n",
        "    movie_indices = [i[0] for i in sim_scores]\n",
        "\n",
        "    # Get the top n most similar movies\n",
        "    recommended_movies = movies_data[['Name', 'Year']].iloc[movie_indices]\n",
        "\n",
        "    # Print the recommended movies with cosine similarity scores\n",
        "    print(f\"Recommended Movies for '{movie_title}':\")\n",
        "    for i, (movie_index, score) in enumerate(zip(movie_indices, sim_scores), 1):\n",
        "        recommended_movie = recommended_movies.iloc[i-1]\n",
        "        print(f\"{i}. {recommended_movie['Name']} ({recommended_movie['Year']}), Similarity Score: {score[1]}\")\n",
        "\n",
        "# Example usage\n",
        "movie_title = '10ml Love'\n",
        "recommend_movies(movie_title)\n"
      ]
    }
  ]
}